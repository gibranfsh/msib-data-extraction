{
 "cells": [
  {
   "cell_type": "code",
   "execution_count": 5,
   "metadata": {},
   "outputs": [
    {
     "name": "stdout",
     "output_type": "stream",
     "text": [
      "                                             mitra_name  \\\n",
      "0     Dinas Lingkungan Hidup dan Kehutanan Daerah Is...   \n",
      "6                             PT Central Makmur Mandiri   \n",
      "9          Lembaga Layanan Pendidikan Tinggi Wilayah IX   \n",
      "19                          PT Secana Beach Town Berawa   \n",
      "21                                PT Goldenindo Lestari   \n",
      "...                                                 ...   \n",
      "7031                        PT Putra Sumber Wisata Jaya   \n",
      "7038                       PT Semesta Integrasi Digital   \n",
      "7078                                  PT Trakindo Utama   \n",
      "7116                    PT Rasuna Residence Development   \n",
      "7173                              PT Net Visi Media Tbk   \n",
      "\n",
      "                                       mitra_brand_name  \n",
      "0                                              DLHK DIY  \n",
      "6                Grand Aston Puncak Hotel &Camp; Resort  \n",
      "9                                            LLDIKTI IX  \n",
      "19                                     Secana Beachtown  \n",
      "21                                       Aston Inn Batu  \n",
      "...                                                 ...  \n",
      "7031                        Harper Malioboro Yogyakarta  \n",
      "7038                                         Sekolah.mu  \n",
      "7078                                           Trakindo  \n",
      "7116  The Alana Hotel &Conference Center Malioboro Y...  \n",
      "7173                                               NET.  \n",
      "\n",
      "[313 rows x 2 columns]\n"
     ]
    }
   ],
   "source": [
    "import pandas as pd\n",
    "\n",
    "# Ganti 'path_to_your_file.xlsx' dengan path file Excel Anda\n",
    "file_path = 'A:\\\\msib\\\\evelyn.json.xlsx'\n",
    "\n",
    "# Membaca file Excel\n",
    "df = pd.read_excel(file_path)\n",
    "\n",
    "# Mendapatkan nilai unik dari kombinasi kolom 'mitra_name' dan 'mitra_brand_name'\n",
    "unique_mitra = df[['mitra_name', 'mitra_brand_name']].drop_duplicates()\n",
    "\n",
    "# Menampilkan hasil\n",
    "print(unique_mitra)\n",
    "\n",
    "# Menyimpan hasil ke dalam file Excel\n",
    "unique_mitra.to_excel('unique_mitra_names_and_brands.xlsx', index=False)\n"
   ]
  }
 ],
 "metadata": {
  "kernelspec": {
   "display_name": "Python 3",
   "language": "python",
   "name": "python3"
  },
  "language_info": {
   "codemirror_mode": {
    "name": "ipython",
    "version": 3
   },
   "file_extension": ".py",
   "mimetype": "text/x-python",
   "name": "python",
   "nbconvert_exporter": "python",
   "pygments_lexer": "ipython3",
   "version": "3.11.0"
  }
 },
 "nbformat": 4,
 "nbformat_minor": 2
}
